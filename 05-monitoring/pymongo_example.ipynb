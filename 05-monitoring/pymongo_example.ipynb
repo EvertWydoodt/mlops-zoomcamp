{
 "cells": [
  {
   "cell_type": "code",
   "execution_count": 1,
   "id": "b3e3ddcd",
   "metadata": {},
   "outputs": [],
   "source": [
    "import pymongo"
   ]
  },
  {
   "cell_type": "code",
   "execution_count": 2,
   "id": "e50ecafe",
   "metadata": {},
   "outputs": [],
   "source": [
    "client = pymongo.MongoClient('mongodb://localhost:27018')\n",
    "db = client.get_database(\"prediction_service\")"
   ]
  },
  {
   "cell_type": "code",
   "execution_count": 3,
   "id": "ada50b0f",
   "metadata": {},
   "outputs": [],
   "source": [
    "data_collection = db.get_collection(\"data\")"
   ]
  },
  {
   "cell_type": "code",
   "execution_count": 4,
   "id": "2eb5c2a6",
   "metadata": {},
   "outputs": [],
   "source": [
    "data = list(data_collection.find())"
   ]
  },
  {
   "cell_type": "code",
   "execution_count": 6,
   "id": "7146632d",
   "metadata": {},
   "outputs": [
    {
     "data": {
      "text/plain": [
       "{'_id': ObjectId('63ee0b875a1333502c5f338b'),\n",
       " 'lpep_pickup_datetime': '2021-01-01 00:15:56',\n",
       " 'PULocationID': 43,\n",
       " 'DOLocationID': 151,\n",
       " 'passenger_count': 1.0,\n",
       " 'trip_distance': 1.01,\n",
       " 'PU_DO': '43_151',\n",
       " 'prediction': 6.120202919137569}"
      ]
     },
     "execution_count": 6,
     "metadata": {},
     "output_type": "execute_result"
    }
   ],
   "source": [
    "data[0]"
   ]
  },
  {
   "cell_type": "code",
   "execution_count": 8,
   "id": "64d079d9",
   "metadata": {},
   "outputs": [
    {
     "data": {
      "text/plain": [
       "591"
      ]
     },
     "execution_count": 8,
     "metadata": {},
     "output_type": "execute_result"
    }
   ],
   "source": [
    "len(data)"
   ]
  }
 ],
 "metadata": {
  "kernelspec": {
   "display_name": "Python 3 (ipykernel)",
   "language": "python",
   "name": "python3"
  },
  "language_info": {
   "codemirror_mode": {
    "name": "ipython",
    "version": 3
   },
   "file_extension": ".py",
   "mimetype": "text/x-python",
   "name": "python",
   "nbconvert_exporter": "python",
   "pygments_lexer": "ipython3",
   "version": "3.9.12"
  }
 },
 "nbformat": 4,
 "nbformat_minor": 5
}
